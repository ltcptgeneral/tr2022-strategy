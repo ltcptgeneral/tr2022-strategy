{
 "metadata": {
  "language_info": {
   "codemirror_mode": {
    "name": "ipython",
    "version": 3
   },
   "file_extension": ".py",
   "mimetype": "text/x-python",
   "name": "python",
   "nbconvert_exporter": "python",
   "pygments_lexer": "ipython3",
   "version": "3.8.5-final"
  },
  "orig_nbformat": 2,
  "kernelspec": {
   "name": "python3",
   "display_name": "Python 3.8.5 64-bit",
   "metadata": {
    "interpreter": {
     "hash": "e7370f93d1d0cde622a1f8e1c04877d8463912d04d973331ad4851f04de6915a"
    }
   }
  }
 },
 "nbformat": 4,
 "nbformat_minor": 2,
 "cells": [
  {
   "cell_type": "code",
   "execution_count": 3,
   "metadata": {},
   "outputs": [],
   "source": [
    "import tra_analysis as an\n",
    "import numpy as np\n",
    "import math\n",
    "from multiprocessing import Pool\n",
    "from functools import partial\n",
    "from itertools import product"
   ]
  },
  {
   "cell_type": "code",
   "execution_count": 24,
   "metadata": {},
   "outputs": [],
   "source": [
    "MAX_SCORE = 150\n",
    "SCALING_FACTOR = 1\n",
    "\n",
    "def min_score(n):\n",
    "    return max(MAX_SCORE - 20*(n-1), 50)\n",
    "\n",
    "def l_q(a):\n",
    "    a_low = a[:math.ceil(len(a)/2)]\n",
    "    return an.Analysis.median(a_low)\n",
    "    #return np.percentile(a, 25)\n",
    "\n",
    "def h_q(a):\n",
    "    a_high = a[len(a)//2:]\n",
    "    return an.Analysis.median(a_high)\n",
    "    #return np.percentile(a, 75)\n",
    "\n",
    "def r_lower(a, q1, q3):\n",
    "    return q1 - SCALING_FACTOR*(q3 - q1)\n",
    "\n",
    "def r_upper(a, q1, q3):\n",
    "    return q3 + SCALING_FACTOR*(q3 - q1)\n",
    "\n",
    "def bound(score, lower, upper):\n",
    "    return max(min(upper, score), lower)\n",
    "\n",
    "def b_first(a, time=False):\n",
    "    if(time):\n",
    "        return an.Analysis.npmin(a)\n",
    "    else:\n",
    "        return an.Analysis.npmax(a)\n",
    "\n",
    "def b_last(a, time=False):\n",
    "    if(time):\n",
    "        return an.Analysis.npmax(a)\n",
    "    else:\n",
    "        return an.Analysis.npmin(a)\n",
    "\n",
    "def compute_c(B, B_first, B_last, C_max, C_min):\n",
    "    return abs((B - B_last) / (B_first - B_last))*(C_max - C_min) + C_min\n",
    "\n",
    "def compute_score(score, min, max, R_L, R_U, B_F, B_L):\n",
    "    BOUND = bound(score, R_L, R_U)\n",
    "    return compute_c(BOUND, B_F, B_L, max, min)\n",
    "\n",
    "def one_iter(array,time = False):\n",
    "\n",
    "    MIN_SCORE = min_score(len(array))\n",
    "    Q1 = l_q(array)\n",
    "    Q3 = h_q(array)\n",
    "\n",
    "    R_L = r_lower(array, Q1, Q3)\n",
    "    R_U = r_upper(array, Q1, Q3)\n",
    "\n",
    "    bounded_group = []\n",
    "    for i in range(len(array)):\n",
    "        bounded_group.append(bound(array[i], R_L, R_U))\n",
    "\n",
    "    B_F = b_first(bounded_group, time)\n",
    "    B_L = b_last(bounded_group, time)\n",
    "    #new_exec_threads = Pool(processes = 8)\n",
    "    results = map( partial (compute_score, min = MIN_SCORE, max = MAX_SCORE, R_L = R_L, R_U = R_U, B_F = B_F, B_L = B_L), array)\n",
    "    return list(results)"
   ]
  },
  {
   "cell_type": "code",
   "execution_count": 25,
   "metadata": {},
   "outputs": [
    {
     "output_type": "execute_result",
     "data": {
      "text/plain": [
       "[150.0,\n",
       " 134.67261904761904,\n",
       " 116.66666666666667,\n",
       " 115.02976190476191,\n",
       " 98.51190476190477,\n",
       " 93.00595238095238,\n",
       " 88.39285714285714,\n",
       " 83.33333333333334,\n",
       " 66.96428571428572,\n",
       " 50.0]"
      ]
     },
     "metadata": {},
     "execution_count": 25
    }
   ],
   "source": [
    "sample_data = [10.0,25.0,37.1,38.2,49.3,53.0,56.1,59.5,70.5,120.5]\n",
    "sample_data = an.Sort.quicksort(sample_data)\n",
    "\n",
    "global exec_threads\n",
    "exec_threads = Pool(processes = 8)\n",
    "\n",
    "#compute_score(0, sample_data, bounded_data, time = True)\n",
    "\n",
    "results = one_iter(sample_data, time = True)\n",
    "results"
   ]
  },
  {
   "cell_type": "code",
   "execution_count": 26,
   "metadata": {},
   "outputs": [],
   "source": [
    "def cartesian_product(*arrays):\n",
    "    la = len(arrays)\n",
    "    dtype = np.result_type(*arrays)\n",
    "    arr = np.empty([len(a) for a in arrays] + [la], dtype=dtype)\n",
    "    for i, a in enumerate(np.ix_(*arrays)):\n",
    "        arr[...,i] = a\n",
    "    return arr.reshape(-1, la)"
   ]
  },
  {
   "cell_type": "code",
   "execution_count": 48,
   "metadata": {
    "tags": []
   },
   "outputs": [],
   "source": [
    "range_low = 10\n",
    "range_high = 11\n",
    "\n",
    "num_teams = 6\n",
    "\n",
    "score_set = np.arange(range_low*10, range_high*10+1)/10\n",
    "\n",
    "big_set = []\n",
    "for i in range(num_teams):\n",
    "    big_set.append(score_set)\n",
    "\n",
    "score_space = cartesian_product(*big_set)\n",
    "#exec_threads.map(partial(one_iter, exec_threads = exec_threads), score_space)\n",
    "#for i in range(len(score_space)-1):\n",
    "    #print(score_space[i])\n",
    "    #one_iter(score_space[i], exec_threads)\n",
    "results = exec_threads.map(partial(one_iter, time = False), score_space)"
   ]
  },
  {
   "cell_type": "code",
   "execution_count": 49,
   "metadata": {},
   "outputs": [
    {
     "output_type": "execute_result",
     "data": {
      "text/plain": [
       "array([[ 50.,  50.,  50.,  50., 150., 150.],\n",
       "       [ 50.,  50.,  50.,  50., 100., 150.],\n",
       "       [ 50.,  50.,  50.,  50., 100., 150.],\n",
       "       ...,\n",
       "       [150., 100., 100., 150., 150.,  50.],\n",
       "       [150.,  50.,  50., 150., 150.,  50.],\n",
       "       [150.,  50.,  50., 150., 150., 150.]])"
      ]
     },
     "metadata": {},
     "execution_count": 49
    }
   ],
   "source": [
    "results = np.array(results)\n",
    "results[~np.isnan(results).any(axis=1)]"
   ]
  },
  {
   "cell_type": "code",
   "execution_count": null,
   "metadata": {},
   "outputs": [],
   "source": []
  }
 ]
}